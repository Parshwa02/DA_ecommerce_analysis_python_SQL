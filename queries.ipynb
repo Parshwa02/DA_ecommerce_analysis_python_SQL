{
 "cells": [
  {
   "cell_type": "code",
   "execution_count": null,
   "id": "0d81307e-0189-49b1-ab83-5a67f2f4c75b",
   "metadata": {},
   "outputs": [],
   "source": [
    "import pandas as pd\n",
    "import matplotlib.pyplot as plt\n",
    "%matplotlib inline\n",
    "import seaborn as sns\n",
    "import mysql.connector\n",
    "\n",
    "db = mysql.connector.connect(host = \"host_name\",\n",
    "                            username = \"user_name\",\n",
    "                            password = \"password\",\n",
    "                            database = \"database\")\n",
    "\n",
    "cur = db.cursor()"
   ]
  },
  {
   "cell_type": "code",
   "execution_count": null,
   "id": "90af7b22-fcc7-478b-99c2-da7fb7254174",
   "metadata": {},
   "outputs": [],
   "source": [
    "import numpy as np"
   ]
  },
  {
   "cell_type": "markdown",
   "id": "d1b221d5-962c-40a4-bb7b-a7db918780cd",
   "metadata": {},
   "source": [
    "### Query 01 :"
   ]
  },
  {
   "cell_type": "code",
   "execution_count": null,
   "id": "a01c39c9-08a8-4322-97e1-60d94814a5fd",
   "metadata": {},
   "outputs": [],
   "source": [
    "query1 = \"\"\" select distinct customer_city as cities from customers \"\"\"\n",
    "\n",
    "cur.execute(query1)\n",
    "\n",
    "data1 = cur.fetchall()\n",
    "\n",
    "\n",
    "df1 = pd.DataFrame(data1, columns = [\"Cities\"])\n",
    "df1.head()"
   ]
  },
  {
   "cell_type": "markdown",
   "id": "8833524c-b464-43a8-b2d2-4a24b402a087",
   "metadata": {},
   "source": [
    "### Query 02 :"
   ]
  },
  {
   "cell_type": "code",
   "execution_count": null,
   "id": "7df8f2c7-8252-4bc4-a680-3162d87065ef",
   "metadata": {},
   "outputs": [],
   "source": [
    "query2 = \"\"\" select count(order_id) , year(order_purchase_timestamp) as order_year\n",
    "from orders\n",
    "where order_purchase_timestamp = 2017; \"\"\"\n",
    "\n",
    "cur.execute(query2)\n",
    "\n",
    "data2 = cur.fetchall()\n",
    "\n",
    "\n",
    "df2 = pd.DataFrame(data2, columns = [\"Total_orders\",\"year\"])\n",
    "df2"
   ]
  },
  {
   "cell_type": "markdown",
   "id": "eea1700f-507e-4ef0-9547-9f7c76dc9a8f",
   "metadata": {},
   "source": [
    "### Query 03 :"
   ]
  },
  {
   "cell_type": "code",
   "execution_count": null,
   "id": "f81e6a3c-e126-43cd-a57a-a58a40c3a156",
   "metadata": {},
   "outputs": [],
   "source": [
    "query3 = \"\"\" select upper(products.product_category), round(sum(payments.payment_value),2) as total_sales\n",
    "from products join order_items\n",
    "on products.product_id = order_items.product_id\n",
    "join payments\n",
    "on order_items.order_id = payments.order_id\n",
    "group by products.product_category; \"\"\"\n",
    "\n",
    "cur.execute(query3)\n",
    "\n",
    "data3 = cur.fetchall()\n",
    "\n",
    "df3 = pd.DataFrame(data3, columns = [\"Category\",\"Total_sales\"])\n",
    "df3.head()"
   ]
  },
  {
   "cell_type": "markdown",
   "id": "071438da-1387-4fd0-859f-d9dacc807b6b",
   "metadata": {},
   "source": [
    "### Query 04 :"
   ]
  },
  {
   "cell_type": "code",
   "execution_count": null,
   "id": "5bdbf5f1-27ed-42d0-839e-671ebdf06722",
   "metadata": {},
   "outputs": [],
   "source": [
    "query4 = \"\"\" select ((sum(case when payment_installments >= 1 then 1 else 0 end) * 100) / count(*)) as percentage_for_installments\n",
    "from payments; \"\"\"\n",
    "\n",
    "cur.execute(query4)\n",
    "\n",
    "data4 = cur.fetchall()\n",
    "\n",
    "df4 = pd.DataFrame(data4, columns = [\"percentage_for_installments\"])\n",
    "df4"
   ]
  },
  {
   "cell_type": "markdown",
   "id": "cd1dd573-e77b-4ec5-a9c4-c06741f311ac",
   "metadata": {},
   "source": [
    "### Query 05 :"
   ]
  },
  {
   "cell_type": "code",
   "execution_count": null,
   "id": "08c0bf8f-501a-4db7-aeb8-5262f6e42532",
   "metadata": {},
   "outputs": [],
   "source": [
    "query5 = \"\"\" select customer_state, count(customer_id) as number_of_customers\n",
    "from customers\n",
    "group by customer_state \"\"\"\n",
    "\n",
    "cur.execute(query5)\n",
    "\n",
    "data5 = cur.fetchall()\n",
    "\n",
    "\n",
    "df5 = pd.DataFrame(data5, columns = [\"customer_state\", \"number_of_customers\"])\n",
    "df5.head()"
   ]
  },
  {
   "cell_type": "markdown",
   "id": "3793fafe-a1a3-46de-8609-1bc246d8ccda",
   "metadata": {},
   "source": [
    "### Query 06 :"
   ]
  },
  {
   "cell_type": "code",
   "execution_count": null,
   "id": "27b9715a-f8b1-4da5-a2d1-fb2fc8e4f062",
   "metadata": {},
   "outputs": [],
   "source": [
    "query6 = \"\"\" SELECT \n",
    "    YEAR(order_purchase_timestamp) AS order_year,\n",
    "    MONTHNAME(order_purchase_timestamp) AS month,\n",
    "    COUNT(order_id) AS total_orders\n",
    "FROM\n",
    "    orders\n",
    "WHERE\n",
    "    order_purchase_timestamp = 2018\n",
    "GROUP BY MONTHNAME(order_purchase_timestamp)\n",
    "ORDER BY MONTH(order_purchase_timestamp); \"\"\"\n",
    "\n",
    "cur.execute(query6)\n",
    "\n",
    "data6 = cur.fetchall()\n",
    "\n",
    "df6 = pd.DataFrame(data6, columns = [\"order_year\", \"Month\", \"Total_orders\"])\n",
    "df6"
   ]
  },
  {
   "cell_type": "markdown",
   "id": "57dde59d-5272-4959-bd22-8715d1639997",
   "metadata": {},
   "source": [
    "### Query 07(1) :"
   ]
  },
  {
   "cell_type": "code",
   "execution_count": null,
   "id": "091c6229-ae39-4209-9ea3-f6086b5cabdd",
   "metadata": {},
   "outputs": [],
   "source": [
    "query7 = \"\"\" SELECT \n",
    "    city,\n",
    "    ROUND(AVG(order_count), 2) AS average_number_of_products_per_order\n",
    "FROM\n",
    "    (SELECT \n",
    "        orders.order_id,\n",
    "            customers.customer_city AS city,\n",
    "            COUNT(order_items.product_id) AS order_count\n",
    "    FROM\n",
    "        order_items\n",
    "    JOIN orders ON order_items.order_id = orders.order_id\n",
    "    JOIN customers ON orders.customer_id = customers.customer_id\n",
    "    GROUP BY orders.order_id , customers.customer_city) subquery\n",
    "GROUP BY city; \"\"\"\n",
    "\n",
    "cur.execute(query7)\n",
    "\n",
    "data7 = cur.fetchall()\n",
    "\n",
    "df7 = pd.DataFrame(data7, columns = [\"City\", \"Average_number_of_products_per_order\"])\n",
    "df7.head()"
   ]
  },
  {
   "cell_type": "markdown",
   "id": "bd64e445-a592-4b58-8031-148ed81df47f",
   "metadata": {},
   "source": [
    "### Query 07(2) :"
   ]
  },
  {
   "cell_type": "code",
   "execution_count": null,
   "id": "a325c8d1-ca6e-49e3-877d-bb056f71d7e1",
   "metadata": {},
   "outputs": [],
   "source": [
    "query7_2 = \"\"\" with count_per_order as\n",
    "(select orders.order_id, \n",
    "orders.customer_id, \n",
    "count(order_items.order_id) AS order_count\n",
    "from orders join order_items\n",
    "on orders.order_id = order_items.order_id\n",
    "group by orders.order_id, orders.customer_id)\n",
    "\n",
    "select customers.customer_city, round(avg(count_per_order.order_count),2) as average_number_of_products_per_order\n",
    "from customers join count_per_order\n",
    "on customers.customer_id = count_per_order.customer_id\n",
    "group by customers.customer_city; \"\"\"\n",
    "\n",
    "cur.execute(query7_2)\n",
    "\n",
    "data7_2 = cur.fetchall()\n",
    "\n",
    "df7_2 = pd.DataFrame(data7_2, columns = [\"City\", \"Average_number_of_products_per_order\"])\n",
    "df7_2.head()"
   ]
  },
  {
   "cell_type": "markdown",
   "id": "16d1d02e-c5be-4eff-b11c-18e3398ac9c6",
   "metadata": {},
   "source": [
    "### Query 08 :"
   ]
  },
  {
   "cell_type": "code",
   "execution_count": null,
   "id": "8b1b11b0-882f-43bd-8eb8-852ce9f78f08",
   "metadata": {},
   "outputs": [],
   "source": [
    "query8 = \"\"\" SELECT \n",
    "    UPPER(products.product_category) as category,\n",
    "    round((SUM(payments.payment_value)  / (select sum(payments.payment_value) from payments)) * 100, 2) AS category_wise_total_sales\n",
    "FROM\n",
    "    products\n",
    "        JOIN\n",
    "    order_items ON products.product_id = order_items.product_id\n",
    "        JOIN\n",
    "    payments ON order_items.order_id = payments.order_id\n",
    "GROUP BY category; \"\"\"\n",
    "\n",
    "cur.execute(query8)\n",
    "\n",
    "data8 = cur.fetchall()\n",
    "\n",
    "df8 = pd.DataFrame(data8, columns = [\"category\", \"category_wise_total_sales_in_percentage\"])\n",
    "df8.head()"
   ]
  },
  {
   "cell_type": "markdown",
   "id": "37542cbd-0fc9-4fa6-a0c6-e3864580d73d",
   "metadata": {},
   "source": [
    "### Query 09 :"
   ]
  },
  {
   "cell_type": "code",
   "execution_count": null,
   "id": "d18401fb-170e-4611-94e1-ad455cab3fe6",
   "metadata": {
    "scrolled": true
   },
   "outputs": [],
   "source": [
    "query9 = \"\"\" SELECT \n",
    "    products.product_category,\n",
    "    COUNT(order_items.order_id) AS total_orders,\n",
    "    ROUND(AVG(order_items.price), 2) AS average_price\n",
    "FROM\n",
    "    products\n",
    "        JOIN\n",
    "    order_items ON products.product_id = order_items.product_id\n",
    "GROUP BY products.product_category \"\"\"\n",
    "\n",
    "cur.execute(query9)\n",
    "\n",
    "data9 = cur.fetchall()\n",
    "\n",
    "df9 = pd.DataFrame(data9, columns = [\"Category\", \"Total Orders\", \"Average Price\"])\n",
    "df9.head()"
   ]
  },
  {
   "cell_type": "code",
   "execution_count": null,
   "id": "5e047590-1a09-45ac-89be-102d9175e797",
   "metadata": {},
   "outputs": [],
   "source": [
    "arr1 = df9[\"Total Orders\"]\n",
    "arr2 = df9[\"Average Price\"]\n",
    "\n",
    "a= np.corrcoef([arr1,arr2])\n",
    "print(\"The correlation between product price and the number of times a product has been purchased is \", a[0][1])"
   ]
  },
  {
   "cell_type": "markdown",
   "id": "fe5213e7-54f3-41d9-9ff0-5a9677a4749a",
   "metadata": {},
   "source": [
    "### Query 10 :"
   ]
  },
  {
   "cell_type": "code",
   "execution_count": null,
   "id": "167e3bf5-359b-44b6-864c-768381011d77",
   "metadata": {},
   "outputs": [],
   "source": [
    "query10 = \"\"\" select *, dense_rank() over(order by total_value desc) as rank_no from\n",
    "(SELECT \n",
    "    order_items.seller_id,\n",
    "    COUNT(order_items.order_id) AS total_number_of_sales,\n",
    "    ROUND(SUM(payments.payment_value), 2) AS total_value\n",
    "FROM\n",
    "    order_items\n",
    "        JOIN\n",
    "    payments ON order_items.order_id = payments.order_id\n",
    "GROUP BY order_items.seller_id) as a \"\"\"\n",
    "\n",
    "cur.execute(query10)\n",
    "\n",
    "data10 = cur.fetchall()\n",
    "\n",
    "df10 = pd.DataFrame(data10, columns = [\"Seller_id\", \"Total_Number_of_Orders\", \"Total_revenue\",\"Rank\"])\n",
    "df10.head()"
   ]
  },
  {
   "cell_type": "markdown",
   "id": "881f5eb0-c00d-4d66-b728-3f4c8edb27e4",
   "metadata": {},
   "source": [
    "### Query 11 :"
   ]
  },
  {
   "cell_type": "code",
   "execution_count": null,
   "id": "4a37791a-29f4-4158-9a25-10b1333344cf",
   "metadata": {},
   "outputs": [],
   "source": [
    "query11 = \"\"\" select *, avg(bill) over(partition by customer_id order by OrderTime rows between 2 preceding and current row ) as mov_avg\n",
    "from\n",
    "(select orders.customer_id, orders.order_purchase_timestamp as OrderTime,\n",
    "payments.payment_value as bill\n",
    "from payments join orders\n",
    "on payments.order_id = orders.order_id)  as a \"\"\"\n",
    "\n",
    "cur.execute(query11)\n",
    "\n",
    "data11 = cur.fetchall()\n",
    "\n",
    "df11 = pd.DataFrame(data11, columns = [\"customer_id\", \"OrderTime\", \"bill\",\"mov_avg\"])\n",
    "df11.head()"
   ]
  },
  {
   "cell_type": "markdown",
   "id": "00e516a3-6b24-4e94-aded-0ee459d3e6f2",
   "metadata": {},
   "source": [
    "### Query 12 :"
   ]
  },
  {
   "cell_type": "code",
   "execution_count": null,
   "id": "3f82e1a1-953a-4626-b9f3-2cd43b449d62",
   "metadata": {},
   "outputs": [],
   "source": [
    "query12 = \"\"\" select years, Months, total_revenue,round(sum(total_revenue) over(order by years, Months),2) as cumilative_value from \n",
    "(select \n",
    "year(orders.order_purchase_timestamp) as years,\n",
    "month(orders.order_purchase_timestamp) as Months,\n",
    "-- monthname(orders.order_purchase_timestamp) as Months,\n",
    "round(sum(payments.payment_value),2) as total_revenue\n",
    "from orders join payments\n",
    "on orders.order_id = payments.order_id\n",
    "group by years,Months\n",
    "order by years, Months asc) as a; \"\"\"\n",
    "\n",
    "cur.execute(query12)\n",
    "\n",
    "data12 = cur.fetchall()\n",
    "\n",
    "df12 = pd.DataFrame(data12, columns = [\"years\", \"Months\", \"Total_revenue\",\"cumulative_value\"])\n",
    "df12"
   ]
  },
  {
   "cell_type": "markdown",
   "id": "c1b84270-0991-4c1e-a5e5-2a379b33714a",
   "metadata": {},
   "source": [
    "### Query 13 :"
   ]
  },
  {
   "cell_type": "code",
   "execution_count": null,
   "id": "a248d1fb-9032-449f-9065-88a64650b85d",
   "metadata": {},
   "outputs": [],
   "source": [
    "query13 = \"\"\" with a as(select \n",
    "year(orders.order_purchase_timestamp) as years,\n",
    "round(sum(payments.payment_value),2) as total_revenue\n",
    "from orders join payments\n",
    "on orders.order_id = payments.order_id\n",
    "group by years\n",
    "order by years asc)\n",
    "\n",
    "select *,round((((total_revenue - lag(total_revenue,1) over (order by years)) / lag(total_revenue,1) over (order by years) ) * 100 ),2) as yoy_perc_growth from a; \"\"\"\n",
    "\n",
    "cur.execute(query13)\n",
    "\n",
    "data13 = cur.fetchall()\n",
    "\n",
    "df13 = pd.DataFrame(data13, columns = [\"years\", \"Total_revenue\",\"YoY % Growth\"])\n",
    "df13"
   ]
  },
  {
   "cell_type": "markdown",
   "id": "8eb77c91-44c7-4817-9cfe-d10b7d2f476e",
   "metadata": {},
   "source": [
    "### Query 14 :"
   ]
  },
  {
   "cell_type": "code",
   "execution_count": null,
   "id": "5cc6b6da-dd4b-425a-a0e5-937392dc2e52",
   "metadata": {},
   "outputs": [],
   "source": [
    "query14 = \"\"\"with a as (select customers.customer_id,\n",
    "min(orders.order_purchase_timestamp) first_order\n",
    "from customers join orders\n",
    "on customers.customer_id = orders.customer_id\n",
    "group by customers.customer_id),\n",
    "\n",
    "b as (select a.customer_id, count(distinct orders.order_purchase_timestamp) next_order\n",
    "from a join orders\n",
    "on orders.customer_id = a.customer_id\n",
    "and orders.order_purchase_timestamp > first_order\n",
    "and orders.order_purchase_timestamp < \n",
    "date_add(first_order, interval 6 month)\n",
    "group by a.customer_id) \n",
    "\n",
    "select 100 * (count( distinct a.customer_id)/ count(distinct b.customer_id)) as retention_rate\n",
    "from a left join b \n",
    "on a.customer_id = b.customer_id ;\"\"\"\n",
    "\n",
    "cur.execute(query14)\n",
    "data14 = cur.fetchall()\n",
    "\n",
    "df14 = pd.DataFrame(data14, columns = [\"retention_rate\"] )\n",
    "df14"
   ]
  },
  {
   "cell_type": "markdown",
   "id": "aa032578-f8c8-498b-98c8-0e081b6cbdc6",
   "metadata": {},
   "source": [
    "# Query 15 :"
   ]
  },
  {
   "cell_type": "code",
   "execution_count": null,
   "id": "a96e9410-bccb-4f12-b204-d9b0c23cf28e",
   "metadata": {},
   "outputs": [],
   "source": [
    "query15 = \"\"\" select * from\n",
    "(select orders.customer_id, \n",
    "year(orders.order_purchase_timestamp) as purchase_year,\n",
    "round(sum(payments.payment_value),2) as total_bill,\n",
    "dense_rank() over(partition by year(orders.order_purchase_timestamp) order by sum(payments.payment_value) desc ) as customer_ranking\n",
    "from orders join payments\n",
    "on orders.order_id = payments.order_id\n",
    "-- where rankNo <= 3\n",
    "group by purchase_year,orders.customer_id) as a\n",
    "where customer_ranking <= 3; \"\"\"\n",
    "\n",
    "cur.execute(query15)\n",
    "data15 = cur.fetchall()\n",
    "\n",
    "df15 = pd.DataFrame(data15, columns = [\"customer_id\", \"purchase_year\",\"total_bill\", \"customer_ranking\"] )\n",
    "df15"
   ]
  },
  {
   "cell_type": "code",
   "execution_count": null,
   "id": "61b3b96f-27b3-4e59-883f-bf50fc3af576",
   "metadata": {},
   "outputs": [],
   "source": []
  }
 ],
 "metadata": {
  "kernelspec": {
   "display_name": "Python 3 (ipykernel)",
   "language": "python",
   "name": "python3"
  },
  "language_info": {
   "codemirror_mode": {
    "name": "ipython",
    "version": 3
   },
   "file_extension": ".py",
   "mimetype": "text/x-python",
   "name": "python",
   "nbconvert_exporter": "python",
   "pygments_lexer": "ipython3",
   "version": "3.12.4"
  }
 },
 "nbformat": 4,
 "nbformat_minor": 5
}
